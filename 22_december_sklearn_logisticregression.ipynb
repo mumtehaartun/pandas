{
  "nbformat": 4,
  "nbformat_minor": 0,
  "metadata": {
    "colab": {
      "provenance": [],
      "authorship_tag": "ABX9TyOXOgX4zGNRttBFbNTbxKne",
      "include_colab_link": true
    },
    "kernelspec": {
      "name": "python3",
      "display_name": "Python 3"
    },
    "language_info": {
      "name": "python"
    }
  },
  "cells": [
    {
      "cell_type": "markdown",
      "metadata": {
        "id": "view-in-github",
        "colab_type": "text"
      },
      "source": [
        "<a href=\"https://colab.research.google.com/github/mumtehaartun/pandas/blob/main/22_december_sklearn_logisticregression.ipynb\" target=\"_parent\"><img src=\"https://colab.research.google.com/assets/colab-badge.svg\" alt=\"Open In Colab\"/></a>"
      ]
    },
    {
      "cell_type": "code",
      "execution_count": 1,
      "metadata": {
        "colab": {
          "base_uri": "https://localhost:8080/"
        },
        "id": "yr4e0Atc5bh3",
        "outputId": "febe8c6c-de31-4cb5-fa64-af909811e53d"
      },
      "outputs": [
        {
          "output_type": "stream",
          "name": "stdout",
          "text": [
            "--2023-12-17 17:50:09--  https://raw.githubusercontent.com/mumtehaartun/pandas/main/adult.csv\n",
            "Resolving raw.githubusercontent.com (raw.githubusercontent.com)... 185.199.108.133, 185.199.109.133, 185.199.111.133, ...\n",
            "Connecting to raw.githubusercontent.com (raw.githubusercontent.com)|185.199.108.133|:443... connected.\n",
            "HTTP request sent, awaiting response... 200 OK\n",
            "Length: 5326368 (5.1M) [text/plain]\n",
            "Saving to: ‘adult.csv’\n",
            "\n",
            "\radult.csv             0%[                    ]       0  --.-KB/s               \radult.csv           100%[===================>]   5.08M  --.-KB/s    in 0.08s   \n",
            "\n",
            "2023-12-17 17:50:09 (61.8 MB/s) - ‘adult.csv’ saved [5326368/5326368]\n",
            "\n"
          ]
        }
      ],
      "source": [
        "#with this code we get the csv file from github that i uploaded before\n",
        "!wget https://raw.githubusercontent.com/mumtehaartun/pandas/main/adult.csv"
      ]
    },
    {
      "cell_type": "code",
      "source": [
        "import pandas as pd\n",
        "\n",
        "#here we give command to read the file and see what we got\n",
        "df = pd.read_csv('adult.csv')\n",
        "\n",
        "print(df)"
      ],
      "metadata": {
        "colab": {
          "base_uri": "https://localhost:8080/"
        },
        "id": "EG5zQzLc5fqH",
        "outputId": "201cd68e-c05c-4a40-c652-bd71c73fe1db"
      },
      "execution_count": 2,
      "outputs": [
        {
          "output_type": "stream",
          "name": "stdout",
          "text": [
            "       age     workclass  fnlwgt     education  educational-num  \\\n",
            "0       25       Private  226802          11th                7   \n",
            "1       38       Private   89814       HS-grad                9   \n",
            "2       28     Local-gov  336951    Assoc-acdm               12   \n",
            "3       44       Private  160323  Some-college               10   \n",
            "4       18             ?  103497  Some-college               10   \n",
            "...    ...           ...     ...           ...              ...   \n",
            "48837   27       Private  257302    Assoc-acdm               12   \n",
            "48838   40       Private  154374       HS-grad                9   \n",
            "48839   58       Private  151910       HS-grad                9   \n",
            "48840   22       Private  201490       HS-grad                9   \n",
            "48841   52  Self-emp-inc  287927       HS-grad                9   \n",
            "\n",
            "           marital-status         occupation relationship   race  gender  \\\n",
            "0           Never-married  Machine-op-inspct    Own-child  Black    Male   \n",
            "1      Married-civ-spouse    Farming-fishing      Husband  White    Male   \n",
            "2      Married-civ-spouse    Protective-serv      Husband  White    Male   \n",
            "3      Married-civ-spouse  Machine-op-inspct      Husband  Black    Male   \n",
            "4           Never-married                  ?    Own-child  White  Female   \n",
            "...                   ...                ...          ...    ...     ...   \n",
            "48837  Married-civ-spouse       Tech-support         Wife  White  Female   \n",
            "48838  Married-civ-spouse  Machine-op-inspct      Husband  White    Male   \n",
            "48839             Widowed       Adm-clerical    Unmarried  White  Female   \n",
            "48840       Never-married       Adm-clerical    Own-child  White    Male   \n",
            "48841  Married-civ-spouse    Exec-managerial         Wife  White  Female   \n",
            "\n",
            "       capital-gain  capital-loss  hours-per-week native-country income  \n",
            "0                 0             0              40  United-States  <=50K  \n",
            "1                 0             0              50  United-States  <=50K  \n",
            "2                 0             0              40  United-States   >50K  \n",
            "3              7688             0              40  United-States   >50K  \n",
            "4                 0             0              30  United-States  <=50K  \n",
            "...             ...           ...             ...            ...    ...  \n",
            "48837             0             0              38  United-States  <=50K  \n",
            "48838             0             0              40  United-States   >50K  \n",
            "48839             0             0              40  United-States  <=50K  \n",
            "48840             0             0              20  United-States  <=50K  \n",
            "48841         15024             0              40  United-States   >50K  \n",
            "\n",
            "[48842 rows x 15 columns]\n"
          ]
        }
      ]
    },
    {
      "cell_type": "code",
      "source": [
        "import pandas as pd\n",
        "import numpy as np\n",
        "from sklearn.model_selection import train_test_split\n",
        "from sklearn.linear_model import LogisticRegression\n",
        "from sklearn.metrics import accuracy_score, classification_report, confusion_matrix\n",
        "from sklearn.preprocessing import LabelEncoder\n",
        "\n",
        "# Assuming 'df' is your DataFrame and the columns you want to encode are 'workclass', 'education', 'marital-status', 'occupation', 'relationship', 'race', 'gender', 'native-country'\n",
        "categorical_columns = ['workclass', 'education', 'marital-status', 'occupation', 'relationship', 'race', 'gender', 'native-country']\n",
        "\n",
        "# Extract the categorical columns from the DataFrame\n",
        "categorical_data = df[categorical_columns]\n",
        "\n",
        "# Initialize the LabelEncoder\n",
        "label_encoder = LabelEncoder()\n",
        "\n",
        "# Apply the LabelEncoder to each column of the categorical data\n",
        "encoded_data = categorical_data.apply(lambda col: label_encoder.fit_transform(col))\n",
        "\n",
        "# Replace the original categorical columns with the encoded data\n",
        "df[categorical_columns] = encoded_data\n",
        "\n",
        "# Define features (X) and target variable (y)\n",
        "X = df.drop('income', axis=1)\n",
        "y = df['income']\n",
        "\n",
        "# Split the data into training and testing sets\n",
        "X_train, X_test, y_train, y_test = train_test_split(X, y, test_size=0.2, random_state=42)\n",
        "\n",
        "# Create and train the logistic regression model\n",
        "model = LogisticRegression()\n",
        "model.fit(X_train, y_train)\n",
        "\n",
        "# Make predictions on the test set (probabilities)\n",
        "y_probabilities = model.predict_proba(X_test)\n",
        "\n",
        "# The probability of being in class 0 and class 1\n",
        "probability_class_0 = y_probabilities[:, 0]\n",
        "probability_class_1 = y_probabilities[:, 1]\n",
        "\n",
        "# You can use these probabilities as needed for analysis\n",
        "print(\"Probability of Class 0:\", probability_class_0)\n",
        "print(\"Probability of Class 1:\", probability_class_1)\n",
        "\n",
        "# Convert probabilities to predicted classes\n",
        "y_pred = model.predict(X_test)\n",
        "\n",
        "# Evaluate the model\n",
        "accuracy = accuracy_score(y_test, y_pred)\n",
        "confusion_mat = confusion_matrix(y_test, y_pred)\n",
        "classification_rep = classification_report(y_test, y_pred)\n",
        "\n",
        "print(f\"Accuracy: {accuracy}\")\n",
        "print(f\"Confusion Matrix:\\n{confusion_mat}\")\n",
        "print(f\"Classification Report:\\n{classification_rep}\")\n",
        "\n"
      ],
      "metadata": {
        "colab": {
          "base_uri": "https://localhost:8080/"
        },
        "id": "iX1h2jLQ5ndY",
        "outputId": "5cf40d11-caaf-4c77-897d-f20a7a289a15"
      },
      "execution_count": 5,
      "outputs": [
        {
          "output_type": "stream",
          "name": "stdout",
          "text": [
            "Probability of Class 0: [0.72260045 0.83948948 0.03270815 ... 0.85418765 0.87814788 0.77659463]\n",
            "Probability of Class 1: [0.27739955 0.16051052 0.96729185 ... 0.14581235 0.12185212 0.22340537]\n",
            "Accuracy: 0.7925069096120381\n",
            "Confusion Matrix:\n",
            "[[7045  434]\n",
            " [1593  697]]\n",
            "Classification Report:\n",
            "              precision    recall  f1-score   support\n",
            "\n",
            "       <=50K       0.82      0.94      0.87      7479\n",
            "        >50K       0.62      0.30      0.41      2290\n",
            "\n",
            "    accuracy                           0.79      9769\n",
            "   macro avg       0.72      0.62      0.64      9769\n",
            "weighted avg       0.77      0.79      0.76      9769\n",
            "\n"
          ]
        }
      ]
    }
  ]
}