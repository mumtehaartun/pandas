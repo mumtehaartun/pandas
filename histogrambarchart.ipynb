{
  "nbformat": 4,
  "nbformat_minor": 0,
  "metadata": {
    "colab": {
      "provenance": [],
      "authorship_tag": "ABX9TyNui/7PrWymcz7UY38f3TPA",
      "include_colab_link": true
    },
    "kernelspec": {
      "name": "python3",
      "display_name": "Python 3"
    },
    "language_info": {
      "name": "python"
    }
  },
  "cells": [
    {
      "cell_type": "markdown",
      "metadata": {
        "id": "view-in-github",
        "colab_type": "text"
      },
      "source": [
        "<a href=\"https://colab.research.google.com/github/mumtehaartun/pandas/blob/main/histogrambarchart.ipynb\" target=\"_parent\"><img src=\"https://colab.research.google.com/assets/colab-badge.svg\" alt=\"Open In Colab\"/></a>"
      ]
    },
    {
      "cell_type": "code",
      "execution_count": 4,
      "metadata": {
        "colab": {
          "base_uri": "https://localhost:8080/",
          "height": 430
        },
        "id": "pkYPssMEALlU",
        "outputId": "33502d33-c1ec-43c6-930b-e5de34c9acd9"
      },
      "outputs": [
        {
          "output_type": "display_data",
          "data": {
            "text/plain": [
              "<Figure size 640x480 with 1 Axes>"
            ],
            "image/png": "[encoded data removed]"
          },
          "metadata": {}
        }
      ],
      "source": [
        "import numpy as np\n",
        "import matplotlib.pyplot as plt\n",
        "\n",
        "x = np.array([1,1,1,1,2,2,2,3,3,3,3,3,3,4,4,4,4,4,4])\n",
        "\n",
        "plt.hist(x)\n",
        "\n",
        "# Get the counts for each bin\n",
        "counts, bins, _ = plt.hist(x)\n",
        "\n",
        "# Add labels to the histogram bars\n",
        "for i in range(len(counts)):\n",
        "    plt.text(bins[i] + 0, counts[i], str(int(counts[i])), ha='center', va='bottom')\n",
        "\n",
        "plt.show()\n"
      ]
    }
  ]
}