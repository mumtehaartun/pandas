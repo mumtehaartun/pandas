{
  "nbformat": 4,
  "nbformat_minor": 0,
  "metadata": {
    "colab": {
      "provenance": [],
      "include_colab_link": true
    },
    "kernelspec": {
      "name": "python3",
      "display_name": "Python 3"
    },
    "language_info": {
      "name": "python"
    }
  },
  "cells": [
    {
      "cell_type": "markdown",
      "metadata": {
        "id": "view-in-github",
        "colab_type": "text"
      },
      "source": [
        "<a href=\"https://colab.research.google.com/github/mumtehaartun/pandas/blob/main/10th_october_homework2.ipynb\" target=\"_parent\"><img src=\"https://colab.research.google.com/assets/colab-badge.svg\" alt=\"Open In Colab\"/></a>"
      ]
    },
    {
      "cell_type": "code",
      "source": [
        "import pandas as pd\n",
        "import numpy as np\n",
        "\n",
        "\n",
        "countries = [\n",
        "    \"Monaco\", \"Bermuda\", \"Norway\", \"Luxembourg\", \"Switzerland\", \"Ireland\",\n",
        "    \"United States\", \"Denmark\", \"Qatar\", \"Iceland\", \"Singapore\", \"Sweden\",\n",
        "    \"Australia\", \"Netherlands\", \"Austria\", \"Israel\", \"Hong Kong *\", \"Finland\",\n",
        "    \"Germany\", \"Canada\", \"United Arab Emirates\", \"United Kingdom\", \"Belgium\",\n",
        "    \"New Zealand\", \"France\", \"Macao\", \"Japan\", \"Italy\", \"South Korea\", \"Spain\",\n",
        "    \"Slovenia\", \"Estonia\", \"Saudi Arabia\", \"Czechia\", \"Portugal\", \"Lithuania\",\n",
        "    \"Slovakia\", \"Greece\", \"Latvia\", \"Hungary\", \"Poland\", \"Romania\", \"Chile\",\n",
        "    \"China\", \"Russia\", \"Malaysia\", \"Argentina\", \"Turkey\", \"Mexico\", \"Brazil\",\n",
        "    \"Thailand\", \"South Africa\", \"Colombia\", \"Ecuador\", \"Indonesia\", \"Ukraine\",\n",
        "    \"Egypt\", \"Vietnam\", \"Philippines\", \"Algeria\", \"Iran\", \"Morocco\",\n",
        "    \"Sri Lanka\", \"Bangladesh\", \"India\", \"Kenya\", \"Nigeria\", \"Cambodia\",\n",
        "    \"Cameroon\", \"Pakistan\", \"Nepal\", \"Myanmar\", \"Ethiopia\", \"Sudan\", \"Niger\",\n",
        "    \"Afghanistan\"\n",
        "]\n",
        "\n",
        "\n",
        "np.random.seed(0)  # For reproducibility\n",
        "\n",
        "\n",
        "# random income\n",
        "\n",
        "income = np.random.randint(500, 50000, len(countries))\n",
        "\n",
        "# we need to find the mean and the stand deviation for the data that you created\n",
        "\n",
        "\n",
        "# this says that the z-score is randomly created using the uniformation distribution\n",
        "\n",
        "# z-score is (observation - mean) / std\n",
        "\n",
        "\n",
        "#z_score = np.round(np.random.uniform(-1, 4.5, len(countries)), 2)\n",
        "\n",
        "\n",
        "\n",
        "# what is the average and stand of income\n",
        "\n",
        "mean = income.mean\n",
        "std = income.std\n",
        "\n",
        "\n",
        "# income is a Numpy array\n",
        "\n",
        "# is a scalar.  thats a single number.  so is std\n",
        "\n",
        "\n",
        "\n",
        "\n",
        "\n"
      ],
      "metadata": {
        "id": "wbCCT4XukA8I"
      },
      "execution_count": 3,
      "outputs": []
    },
    {
      "cell_type": "code",
      "source": [
        "import numpy as np\n",
        "\n",
        "# Define the function\n",
        "def custom_function(row, a, b):\n",
        "    return (row - a) / b\n",
        "\n",
        "\n",
        "\n",
        "\n",
        "# Apply the custom function over every row\n",
        "result = np.apply_along_axis(custom_function, axis=0, arr=income, a=mean, b=std)\n",
        "\n",
        "print(result)\n"
      ],
      "metadata": {
        "colab": {
          "base_uri": "https://localhost:8080/",
          "height": 399
        },
        "id": "uBBGn8YXo5Cv",
        "outputId": "1c30aee6-848a-4ac4-f7c6-ada0b3f52641"
      },
      "execution_count": 5,
      "outputs": [
        {
          "output_type": "error",
          "ename": "TypeError",
          "evalue": "ignored",
          "traceback": [
            "\u001b[0;31m---------------------------------------------------------------------------\u001b[0m",
            "\u001b[0;31mTypeError\u001b[0m                                 Traceback (most recent call last)",
            "\u001b[0;32m<ipython-input-5-b0b7478dfb65>\u001b[0m in \u001b[0;36m<cell line: 11>\u001b[0;34m()\u001b[0m\n\u001b[1;32m      9\u001b[0m \u001b[0;34m\u001b[0m\u001b[0m\n\u001b[1;32m     10\u001b[0m \u001b[0;31m# Apply the custom function over every row\u001b[0m\u001b[0;34m\u001b[0m\u001b[0;34m\u001b[0m\u001b[0m\n\u001b[0;32m---> 11\u001b[0;31m \u001b[0mresult\u001b[0m \u001b[0;34m=\u001b[0m \u001b[0mnp\u001b[0m\u001b[0;34m.\u001b[0m\u001b[0mapply_along_axis\u001b[0m\u001b[0;34m(\u001b[0m\u001b[0mcustom_function\u001b[0m\u001b[0;34m,\u001b[0m \u001b[0maxis\u001b[0m\u001b[0;34m=\u001b[0m\u001b[0;36m0\u001b[0m\u001b[0;34m,\u001b[0m \u001b[0marr\u001b[0m\u001b[0;34m=\u001b[0m\u001b[0mincome\u001b[0m\u001b[0;34m,\u001b[0m \u001b[0ma\u001b[0m\u001b[0;34m=\u001b[0m\u001b[0mmean\u001b[0m\u001b[0;34m,\u001b[0m \u001b[0mb\u001b[0m\u001b[0;34m=\u001b[0m\u001b[0mstd\u001b[0m\u001b[0;34m)\u001b[0m\u001b[0;34m\u001b[0m\u001b[0;34m\u001b[0m\u001b[0m\n\u001b[0m\u001b[1;32m     12\u001b[0m \u001b[0;34m\u001b[0m\u001b[0m\n\u001b[1;32m     13\u001b[0m \u001b[0mprint\u001b[0m\u001b[0;34m(\u001b[0m\u001b[0mresult\u001b[0m\u001b[0;34m)\u001b[0m\u001b[0;34m\u001b[0m\u001b[0;34m\u001b[0m\u001b[0m\n",
            "\u001b[0;32m/usr/local/lib/python3.10/dist-packages/numpy/core/overrides.py\u001b[0m in \u001b[0;36mapply_along_axis\u001b[0;34m(*args, **kwargs)\u001b[0m\n",
            "\u001b[0;32m/usr/local/lib/python3.10/dist-packages/numpy/lib/shape_base.py\u001b[0m in \u001b[0;36mapply_along_axis\u001b[0;34m(func1d, axis, arr, *args, **kwargs)\u001b[0m\n\u001b[1;32m    377\u001b[0m             \u001b[0;34m'Cannot apply_along_axis when any iteration dimensions are 0'\u001b[0m\u001b[0;34m\u001b[0m\u001b[0;34m\u001b[0m\u001b[0m\n\u001b[1;32m    378\u001b[0m         ) from None\n\u001b[0;32m--> 379\u001b[0;31m     \u001b[0mres\u001b[0m \u001b[0;34m=\u001b[0m \u001b[0masanyarray\u001b[0m\u001b[0;34m(\u001b[0m\u001b[0mfunc1d\u001b[0m\u001b[0;34m(\u001b[0m\u001b[0minarr_view\u001b[0m\u001b[0;34m[\u001b[0m\u001b[0mind0\u001b[0m\u001b[0;34m]\u001b[0m\u001b[0;34m,\u001b[0m \u001b[0;34m*\u001b[0m\u001b[0margs\u001b[0m\u001b[0;34m,\u001b[0m \u001b[0;34m**\u001b[0m\u001b[0mkwargs\u001b[0m\u001b[0;34m)\u001b[0m\u001b[0;34m)\u001b[0m\u001b[0;34m\u001b[0m\u001b[0;34m\u001b[0m\u001b[0m\n\u001b[0m\u001b[1;32m    380\u001b[0m \u001b[0;34m\u001b[0m\u001b[0m\n\u001b[1;32m    381\u001b[0m     \u001b[0;31m# build a buffer for storing evaluations of func1d.\u001b[0m\u001b[0;34m\u001b[0m\u001b[0;34m\u001b[0m\u001b[0m\n",
            "\u001b[0;32m<ipython-input-5-b0b7478dfb65>\u001b[0m in \u001b[0;36mcustom_function\u001b[0;34m(row, a, b)\u001b[0m\n\u001b[1;32m      3\u001b[0m \u001b[0;31m# Define the function\u001b[0m\u001b[0;34m\u001b[0m\u001b[0;34m\u001b[0m\u001b[0m\n\u001b[1;32m      4\u001b[0m \u001b[0;32mdef\u001b[0m \u001b[0mcustom_function\u001b[0m\u001b[0;34m(\u001b[0m\u001b[0mrow\u001b[0m\u001b[0;34m,\u001b[0m \u001b[0ma\u001b[0m\u001b[0;34m,\u001b[0m \u001b[0mb\u001b[0m\u001b[0;34m)\u001b[0m\u001b[0;34m:\u001b[0m\u001b[0;34m\u001b[0m\u001b[0;34m\u001b[0m\u001b[0m\n\u001b[0;32m----> 5\u001b[0;31m     \u001b[0;32mreturn\u001b[0m \u001b[0;34m(\u001b[0m\u001b[0mrow\u001b[0m \u001b[0;34m-\u001b[0m \u001b[0ma\u001b[0m\u001b[0;34m)\u001b[0m \u001b[0;34m/\u001b[0m \u001b[0mb\u001b[0m\u001b[0;34m\u001b[0m\u001b[0;34m\u001b[0m\u001b[0m\n\u001b[0m\u001b[1;32m      6\u001b[0m \u001b[0;34m\u001b[0m\u001b[0m\n\u001b[1;32m      7\u001b[0m \u001b[0;34m\u001b[0m\u001b[0m\n",
            "\u001b[0;31mTypeError\u001b[0m: unsupported operand type(s) for -: 'int' and 'builtin_function_or_method'"
          ]
        }
      ]
    },
    {
      "cell_type": "code",
      "source": [
        "income.shape"
      ],
      "metadata": {
        "colab": {
          "base_uri": "https://localhost:8080/"
        },
        "id": "-EqxTRfXqItw",
        "outputId": "a1594195-c2c7-46ef-b384-65baf793abc4"
      },
      "execution_count": 7,
      "outputs": [
        {
          "output_type": "execute_result",
          "data": {
            "text/plain": [
              "(76,)"
            ]
          },
          "metadata": {},
          "execution_count": 7
        }
      ]
    },
    {
      "cell_type": "code",
      "source": [
        "\n",
        "df = pd.DataFrame({\n",
        "    \"country\": countries,\n",
        "    \"income\": income,\n",
        "    \"z-score\": z_score\n",
        "})\n",
        "\n",
        "print()\n",
        "df\n"
      ],
      "metadata": {
        "id": "SmaHRkGTm8eR"
      },
      "execution_count": null,
      "outputs": []
    }
  ]
}