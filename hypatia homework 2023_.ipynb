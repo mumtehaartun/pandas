{
  "nbformat": 4,
  "nbformat_minor": 0,
  "metadata": {
    "colab": {
      "provenance": [],
      "authorship_tag": "ABX9TyPS1lKlNzn2yUhqjNrmx51Z",
      "include_colab_link": true
    },
    "kernelspec": {
      "name": "python3",
      "display_name": "Python 3"
    },
    "language_info": {
      "name": "python"
    }
  },
  "cells": [
    {
      "cell_type": "markdown",
      "metadata": {
        "id": "view-in-github",
        "colab_type": "text"
      },
      "source": [
        "<a href=\"https://colab.research.google.com/github/mumtehaartun/pandas/blob/main/hypatia%20homework%202023_.ipynb\" target=\"_parent\"><img src=\"https://colab.research.google.com/assets/colab-badge.svg\" alt=\"Open In Colab\"/></a>"
      ]
    },
    {
      "cell_type": "code",
      "execution_count": 1,
      "metadata": {
        "colab": {
          "base_uri": "https://localhost:8080/"
        },
        "id": "QYfyt0T2xAKu",
        "outputId": "37f60fb8-297c-4f74-a0f7-141f1c7a0b4a"
      },
      "outputs": [
        {
          "output_type": "execute_result",
          "data": {
            "text/plain": [
              "array([97, 55, 79, 67, 91])"
            ]
          },
          "metadata": {},
          "execution_count": 1
        }
      ],
      "source": [
        "import numpy as np\n",
        "\n",
        "\n",
        "study=np.array([9, 2, 6, 4,8])\n",
        "\n",
        "results=np.array([50, 75, 85, 80, 100])\n",
        "\n",
        "\n",
        "# weights\n",
        "coefficient=6\n",
        "\n",
        "# y-intercept\n",
        "yintercept=43\n",
        "\n",
        "prediction=coefficient*study+yintercept\n",
        "prediction"
      ]
    },
    {
      "cell_type": "code",
      "source": [
        "import numpy as np\n",
        "\n",
        "simpleA=[3,4,5,6,7]\n",
        "simpleB=[1,2,8,9,0]\n",
        "\n",
        "\n",
        "\n",
        "a=np.array(simpleA)\n",
        "b=np.array(simpleB)\n",
        "\n",
        "lse=(a[0]-b[0])**2\n",
        "lse\n",
        "\n",
        "for i in range(4):\n",
        "    print((a[i]-b[i])**2)\n"
      ],
      "metadata": {
        "colab": {
          "base_uri": "https://localhost:8080/"
        },
        "id": "2acu5nDRmpTI",
        "outputId": "cf87ec30-f554-45d4-9588-80a0993384e2"
      },
      "execution_count": 2,
      "outputs": [
        {
          "output_type": "stream",
          "name": "stdout",
          "text": [
            "4\n",
            "4\n",
            "9\n",
            "9\n"
          ]
        }
      ]
    },
    {
      "cell_type": "code",
      "source": [],
      "metadata": {
        "id": "yyCFv_nlZy7u"
      },
      "execution_count": null,
      "outputs": []
    }
  ]
}