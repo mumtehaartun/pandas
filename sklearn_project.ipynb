{
  "nbformat": 4,
  "nbformat_minor": 0,
  "metadata": {
    "colab": {
      "provenance": [],
      "include_colab_link": true
    },
    "kernelspec": {
      "name": "python3",
      "display_name": "Python 3"
    },
    "language_info": {
      "name": "python"
    }
  },
  "cells": [
    {
      "cell_type": "markdown",
      "metadata": {
        "id": "view-in-github",
        "colab_type": "text"
      },
      "source": [
        "<a href=\"https://colab.research.google.com/github/mumtehaartun/pandas/blob/main/sklearn_project.ipynb\" target=\"_parent\"><img src=\"https://colab.research.google.com/assets/colab-badge.svg\" alt=\"Open In Colab\"/></a>"
      ]
    },
    {
      "cell_type": "code",
      "execution_count": 12,
      "metadata": {
        "colab": {
          "base_uri": "https://localhost:8080/"
        },
        "id": "HtO_ccI4bB7K",
        "outputId": "69a5a9d1-2968-4dae-e0f9-a4f02e6fb89c"
      },
      "outputs": [
        {
          "output_type": "stream",
          "name": "stdout",
          "text": [
            "--2023-11-30 10:48:39--  https://raw.githubusercontent.com/mumtehaartun/pandas/0c528a8711fd59ee166c4e507ac8b219074019ed/housing_price_dataset.csv\n",
            "Resolving raw.githubusercontent.com (raw.githubusercontent.com)... 185.199.108.133, 185.199.109.133, 185.199.110.133, ...\n",
            "Connecting to raw.githubusercontent.com (raw.githubusercontent.com)|185.199.108.133|:443... connected.\n",
            "HTTP request sent, awaiting response... 200 OK\n",
            "Length: 1944010 (1.9M) [text/plain]\n",
            "Saving to: ‘housing_price_dataset.csv’\n",
            "\n",
            "housing_price_datas 100%[===================>]   1.85M  --.-KB/s    in 0.08s   \n",
            "\n",
            "2023-11-30 10:48:39 (23.5 MB/s) - ‘housing_price_dataset.csv’ saved [1944010/1944010]\n",
            "\n"
          ]
        }
      ],
      "source": [
        "!wget https://raw.githubusercontent.com/mumtehaartun/pandas/0c528a8711fd59ee166c4e507ac8b219074019ed/housing_price_dataset.csv"
      ]
    },
    {
      "cell_type": "code",
      "source": [
        "!ls"
      ],
      "metadata": {
        "colab": {
          "base_uri": "https://localhost:8080/"
        },
        "id": "L8CxRr2YXghU",
        "outputId": "4e3271f5-4173-48d1-f4a3-96df84c1ff0d"
      },
      "execution_count": 13,
      "outputs": [
        {
          "output_type": "stream",
          "name": "stdout",
          "text": [
            "housing_price_dataset.csv  sample_data\n"
          ]
        }
      ]
    },
    {
      "cell_type": "code",
      "source": [
        "import pandas as pd\n",
        "\n",
        "df = pd.read_csv('housing_price_dataset.csv')\n",
        "\n",
        "print(df)"
      ],
      "metadata": {
        "colab": {
          "base_uri": "https://localhost:8080/"
        },
        "id": "nkUTDPhAeKF4",
        "outputId": "0b2434f8-f735-4bac-f9c3-494a297848e7"
      },
      "execution_count": 14,
      "outputs": [
        {
          "output_type": "stream",
          "name": "stdout",
          "text": [
            "       SquareFeet  Bedrooms  Bathrooms Neighborhood  YearBuilt          Price\n",
            "0            2126         4          1        Rural       1969  215355.283618\n",
            "1            2459         3          2        Rural       1980  195014.221626\n",
            "2            1860         2          1       Suburb       1970  306891.012076\n",
            "3            2294         2          1        Urban       1996  206786.787153\n",
            "4            2130         5          2       Suburb       2001  272436.239065\n",
            "...           ...       ...        ...          ...        ...            ...\n",
            "49995        1282         5          3        Rural       1975  100080.865895\n",
            "49996        2854         2          2       Suburb       1988  374507.656727\n",
            "49997        2979         5          3       Suburb       1962  384110.555590\n",
            "49998        2596         5          2        Rural       1984  380512.685957\n",
            "49999        1572         5          3        Rural       2011  221618.583218\n",
            "\n",
            "[50000 rows x 6 columns]\n"
          ]
        }
      ]
    },
    {
      "cell_type": "code",
      "source": [
        "import numpy as np\n",
        "import pandas as pd\n",
        "import matplotlib.pyplot as plt\n",
        "from sklearn.model_selection import train_test_split\n",
        "from sklearn.linear_model import LinearRegression\n",
        "from sklearn import metrics\n",
        "\n",
        "np.random.seed(42)\n",
        "\n",
        "X = 2 * np.random.rand(100, 1)\n",
        "y = 4 + 3 * X + np.random.randn(100, 1)\n",
        "\n",
        "data = pd.DataFrame(data=np.column_stack([X, y]), columns=['X', 'y'])\n",
        "\n",
        "X_train, X_test, y_train, y_test = train_test_split(data['X'].values.reshape(-1, 1), data['y'].values, test_size=0.2, random_state=42)\n",
        "\n",
        "model = LinearRegression()\n",
        "\n",
        "model.fit(X_train, y_train)\n",
        "\n",
        "y_pred = model.predict(X_test)\n",
        "\n",
        "mse = metrics.mean_squared_error(y_test, y_pred)\n",
        "rmse = np.sqrt(mse)\n",
        "r2 = metrics.r2_score(y_test, y_pred)\n",
        "\n",
        "plt.scatter(X_test, y_test, color='brown', label='Test Data')\n",
        "plt.plot(X_test, y_pred, color='blue', linewidth=3, label='Regression Line')\n",
        "plt.xlabel('X', color='green')\n",
        "plt.ylabel('y', color='purple')\n",
        "plt.title('Linear Regression Analysis', color='cyan')\n",
        "plt.legend()\n",
        "plt.show()\n",
        "\n",
        "print(\"Model Coefficients:\", model.coef_)\n",
        "print(\"Model Intercept:\", model.intercept_)\n",
        "print(\"Mean Squared Error:\", mse)\n",
        "print(\"Root Mean Squared Error:\", rmse)\n",
        "print(\"R-squared:\", r2)\n"
      ],
      "metadata": {
        "colab": {
          "base_uri": "https://localhost:8080/",
          "height": 559
        },
        "id": "RukXpN1fcTAG",
        "outputId": "9d7418f0-bae6-4a76-c2d4-346d34b25568"
      },
      "execution_count": 15,
      "outputs": [
        {
          "output_type": "display_data",
          "data": {
            "text/plain": [
              "<Figure size 640x480 with 1 Axes>"
            ],
            "image/png": "[encoded data removed]"
          },
          "metadata": {}
        },
        {
          "output_type": "stream",
          "name": "stdout",
          "text": [
            "Model Coefficients: [2.79932366]\n",
            "Model Intercept: 4.142913319458566\n",
            "Mean Squared Error: 0.6536995137170021\n",
            "Root Mean Squared Error: 0.8085168605026132\n",
            "R-squared: 0.8072059636181392\n"
          ]
        }
      ]
    },
    {
      "cell_type": "code",
      "source": [
        "import pandas as pd\n",
        "import matplotlib.pyplot as plt\n",
        "from sklearn.linear_model import LinearRegression\n",
        "from sklearn.model_selection import train_test_split\n",
        "from sklearn.metrics import mean_squared_error, r2_score\n",
        "\n",
        "columns_to_encode = ['Neighborhood']\n",
        "\n",
        "data = pd.read_csv('housing_price_dataset.csv')\n",
        "\n",
        "data_encoded = pd.get_dummies(data, columns=columns_to_encode)\n",
        "\n",
        "X = data_encoded.drop('Price', axis=1)\n",
        "y = data_encoded['Price']\n",
        "\n",
        "X_train, X_test, y_train, y_test = train_test_split(X, y, test_size=0.2, random_state=42)\n",
        "\n",
        "reg = LinearRegression()\n",
        "\n",
        "reg.fit(X_train, y_train)\n",
        "\n",
        "y_pred = reg.predict(X_test)\n",
        "\n",
        "print('Coefficients: \\n', reg.coef_)\n",
        "print('Intercept: \\n', reg.intercept_)\n",
        "print('Score: \\n', reg.score(X_test, y_test))\n",
        "print('Mean squared error: %.2f' % mean_squared_error(y_test, y_pred))\n",
        "print('Coefficient of determination: %.2f' % r2_score(y_test, y_pred))\n"
      ],
      "metadata": {
        "colab": {
          "base_uri": "https://localhost:8080/"
        },
        "id": "lcyiJDXs2BDa",
        "outputId": "46903888-e1ff-40da-a045-ca0a03f9021c"
      },
      "execution_count": 17,
      "outputs": [
        {
          "output_type": "stream",
          "name": "stdout",
          "text": [
            "Coefficients: \n",
            " [  99.34424664 5230.28498499 2968.50090091   -5.70699352 -273.55711806\n",
            " -869.08798284 1142.6451009 ]\n",
            "Intercept: \n",
            " 12596.430675888696\n",
            "Score: \n",
            " 0.5755628630306235\n",
            "Mean squared error: 2436249371.31\n",
            "Coefficient of determination: 0.58\n"
          ]
        }
      ]
    },
    {
      "cell_type": "code",
      "source": [
        "from sklearn.metrics import mean_squared_error\n",
        "\n",
        "mse = mean_squared_error(y_test, y_pred)\n",
        "print('Mean squared error: %.2f' % mse)\n"
      ],
      "metadata": {
        "colab": {
          "base_uri": "https://localhost:8080/"
        },
        "id": "qha82AXu45MB",
        "outputId": "c8b8fb41-4af5-4093-fd22-7b6cee29ba7b"
      },
      "execution_count": 22,
      "outputs": [
        {
          "output_type": "stream",
          "name": "stdout",
          "text": [
            "Mean squared error: 2436249371.31\n"
          ]
        }
      ]
    }
  ]
}